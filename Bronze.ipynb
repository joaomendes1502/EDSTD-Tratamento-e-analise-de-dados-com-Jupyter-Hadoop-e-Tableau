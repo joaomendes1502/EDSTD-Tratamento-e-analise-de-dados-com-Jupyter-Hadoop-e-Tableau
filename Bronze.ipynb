{
 "cells": [
  {
   "cell_type": "code",
   "execution_count": 1,
   "id": "734c41ed-fb34-4356-9ab7-cdde2add216a",
   "metadata": {},
   "outputs": [
    {
     "name": "stdout",
     "output_type": "stream",
     "text": [
      "Requirement already satisfied: hdfs in /opt/conda/lib/python3.10/site-packages (2.7.0)\n",
      "Requirement already satisfied: requests>=2.7.0 in /opt/conda/lib/python3.10/site-packages (from hdfs) (2.28.1)\n",
      "Requirement already satisfied: six>=1.9.0 in /opt/conda/lib/python3.10/site-packages (from hdfs) (1.16.0)\n",
      "Requirement already satisfied: docopt in /opt/conda/lib/python3.10/site-packages (from hdfs) (0.6.2)\n",
      "Requirement already satisfied: idna<4,>=2.5 in /opt/conda/lib/python3.10/site-packages (from requests>=2.7.0->hdfs) (3.4)\n",
      "Requirement already satisfied: certifi>=2017.4.17 in /opt/conda/lib/python3.10/site-packages (from requests>=2.7.0->hdfs) (2022.9.24)\n",
      "Requirement already satisfied: charset-normalizer<3,>=2 in /opt/conda/lib/python3.10/site-packages (from requests>=2.7.0->hdfs) (2.1.1)\n",
      "Requirement already satisfied: urllib3<1.27,>=1.21.1 in /opt/conda/lib/python3.10/site-packages (from requests>=2.7.0->hdfs) (1.26.11)\n"
     ]
    }
   ],
   "source": [
    "import sys\n",
    "!{sys.executable} -m pip install hdfs\n"
   ]
  },
  {
   "cell_type": "code",
   "execution_count": 2,
   "id": "1e097cf3-1056-4c4a-bc73-f6891703e410",
   "metadata": {},
   "outputs": [
    {
     "data": {
      "text/plain": [
       "'/Projeto/Bronze/DOHMH_Dog_Bite_Data.csv'"
      ]
     },
     "execution_count": 2,
     "metadata": {},
     "output_type": "execute_result"
    }
   ],
   "source": [
    "from os import PathLike\n",
    "from hdfs import InsecureClient\n",
    "client=InsecureClient(\"http://hdfs-nn:9870\",user='anonymous')\n",
    "\n",
    "from_path= \"./DOHMH_Dog_Bite_Data.csv\"\n",
    "to_path=\"/Projeto/Bronze/DOHMH_Dog_Bite_Data.csv\"\n",
    "\n",
    "client.delete(to_path)\n",
    "client.upload(to_path,from_path)\n",
    "\n"
   ]
  },
  {
   "cell_type": "code",
   "execution_count": 3,
   "id": "7d227055-23a9-4cb6-ade7-4c70a1a57c38",
   "metadata": {},
   "outputs": [
    {
     "data": {
      "text/plain": [
       "'/Projeto/Bronze/DrinkingFountains_20190417.csv'"
      ]
     },
     "execution_count": 3,
     "metadata": {},
     "output_type": "execute_result"
    }
   ],
   "source": [
    "from os import PathLike\n",
    "from hdfs import InsecureClient\n",
    "client=InsecureClient(\"http://hdfs-nn:9870\",user='anonymous')\n",
    "\n",
    "from_path= \"./DrinkingFountains_20190417.csv\"\n",
    "to_path=\"/Projeto/Bronze/DrinkingFountains_20190417.csv\"\n",
    "\n",
    "client.delete(to_path)\n",
    "client.upload(to_path,from_path)"
   ]
  },
  {
   "cell_type": "code",
   "execution_count": 4,
   "id": "6b5c84b4-8629-4556-a108-1ab2d88445a0",
   "metadata": {},
   "outputs": [
    {
     "data": {
      "text/plain": [
       "'/Projeto/Bronze/Parks_Supervisor_Inspections_-_Inspection_Results.csv'"
      ]
     },
     "execution_count": 4,
     "metadata": {},
     "output_type": "execute_result"
    }
   ],
   "source": [
    "from os import PathLike\n",
    "from hdfs import InsecureClient\n",
    "client=InsecureClient(\"http://hdfs-nn:9870\",user='anonymous')\n",
    "\n",
    "from_path= \"./Parks_Supervisor_Inspections_-_Inspection_Results.csv\"\n",
    "to_path=\"/Projeto/Bronze/Parks_Supervisor_Inspections_-_Inspection_Results.csv\"\n",
    "\n",
    "client.delete(to_path)\n",
    "client.upload(to_path,from_path)"
   ]
  },
  {
   "cell_type": "code",
   "execution_count": 5,
   "id": "b8505780-b2b4-4070-a50b-ea4f2c687cac",
   "metadata": {},
   "outputs": [
    {
     "data": {
      "text/plain": [
       "'/Projeto/Bronze/Urban_Park_Ranger_Animal_Condition_Response.csv'"
      ]
     },
     "execution_count": 5,
     "metadata": {},
     "output_type": "execute_result"
    }
   ],
   "source": [
    "from os import PathLike\n",
    "from hdfs import InsecureClient\n",
    "client=InsecureClient(\"http://hdfs-nn:9870\",user='anonymous')\n",
    "\n",
    "from_path= \"./Urban_Park_Ranger_Animal_Condition_Response.csv\"\n",
    "to_path=\"/Projeto/Bronze/Urban_Park_Ranger_Animal_Condition_Response.csv\"\n",
    "\n",
    "client.delete(to_path)\n",
    "client.upload(to_path,from_path)"
   ]
  },
  {
   "cell_type": "code",
   "execution_count": 6,
   "id": "30f18d59-5ae5-4133-a65e-2cc689ff7a19",
   "metadata": {},
   "outputs": [
    {
     "data": {
      "text/plain": [
       "'/Projeto/Bronze/Central_Park_Squirrel_Census_Squirrel_Data_2018.csv'"
      ]
     },
     "execution_count": 6,
     "metadata": {},
     "output_type": "execute_result"
    }
   ],
   "source": [
    "from os import PathLike\n",
    "from hdfs import InsecureClient\n",
    "client=InsecureClient(\"http://hdfs-nn:9870\",user='anonymous')\n",
    "\n",
    "from_path= \"./Central_Park_Squirrel_Census_Squirrel_Data_2018.csv\"\n",
    "to_path=\"/Projeto/Bronze/Central_Park_Squirrel_Census_Squirrel_Data_2018.csv\"\n",
    "\n",
    "client.delete(to_path)\n",
    "client.upload(to_path,from_path)"
   ]
  },
  {
   "cell_type": "code",
   "execution_count": null,
   "id": "a5522643-9f08-4fec-a45c-c02982c998aa",
   "metadata": {},
   "outputs": [],
   "source": []
  }
 ],
 "metadata": {
  "kernelspec": {
   "display_name": "Python 3 (ipykernel)",
   "language": "python",
   "name": "python3"
  },
  "language_info": {
   "codemirror_mode": {
    "name": "ipython",
    "version": 3
   },
   "file_extension": ".py",
   "mimetype": "text/x-python",
   "name": "python",
   "nbconvert_exporter": "python",
   "pygments_lexer": "ipython3",
   "version": "3.10.6"
  }
 },
 "nbformat": 4,
 "nbformat_minor": 5
}
