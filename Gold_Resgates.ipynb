{
 "cells": [
  {
   "cell_type": "code",
   "execution_count": 1,
   "id": "915d7301-2aec-4bab-971e-553aeb99d068",
   "metadata": {},
   "outputs": [
    {
     "name": "stdout",
     "output_type": "stream",
     "text": [
      "Requirement already satisfied: delta-spark in /opt/conda/lib/python3.10/site-packages (2.1.1)\n",
      "Requirement already satisfied: importlib-metadata>=1.0.0 in /opt/conda/lib/python3.10/site-packages (from delta-spark) (4.11.4)\n",
      "Requirement already satisfied: pyspark<3.4.0,>=3.3.0 in /usr/local/spark-3.3.0-bin-hadoop3/python (from delta-spark) (3.3.0)\n",
      "Requirement already satisfied: zipp>=0.5 in /opt/conda/lib/python3.10/site-packages (from importlib-metadata>=1.0.0->delta-spark) (3.9.0)\n",
      "Requirement already satisfied: py4j==0.10.9.5 in /opt/conda/lib/python3.10/site-packages (from pyspark<3.4.0,>=3.3.0->delta-spark) (0.10.9.5)\n",
      "Note: you may need to restart the kernel to use updated packages.\n"
     ]
    }
   ],
   "source": [
    "pip install delta-spark"
   ]
  },
  {
   "cell_type": "code",
   "execution_count": 2,
   "id": "24dcf93a-8e16-40a0-a077-8e1338b39c2f",
   "metadata": {},
   "outputs": [
    {
     "name": "stdout",
     "output_type": "stream",
     "text": [
      "/opt/conda/bin/python: No module named pip install hdfs\n"
     ]
    }
   ],
   "source": [
    "# Install dependencies\n",
    "\n",
    "import sys\n",
    "!{sys.executable} -m pip install hdfs"
   ]
  },
  {
   "cell_type": "code",
   "execution_count": 3,
   "id": "3e3523a3-46d3-42a9-8b83-21a88e688468",
   "metadata": {},
   "outputs": [],
   "source": [
    "from pyspark.sql import SparkSession\n",
    "from pyspark.sql import Row\n",
    "from delta import *\n",
    "from pyspark.sql.types import *\n",
    "from pyspark.sql.functions import *\n",
    "\n",
    "# warehouse_location points to the default location for managed databases and tables\n",
    "warehouse_location = 'hdfs://hdfs-nn:9000/Projeto/Gold'\n",
    "\n",
    "builder = SparkSession \\\n",
    "    .builder \\\n",
    "    .appName(\"Python Spark SQL Hive integration example\") \\\n",
    "    .config(\"spark.sql.warehouse.dir\", warehouse_location) \\\n",
    "    .config(\"hive.metastore.uris\", \"thrift://hive-metastore:9083\") \\\n",
    "    .config(\"spark.sql.extensions\", \"io.delta.sql.DeltaSparkSessionExtension\") \\\n",
    "    .config(\"spark.sql.catalog.spark_catalog\", \"org.apache.spark.sql.delta.catalog.DeltaCatalog\") \\\n",
    "    .config(\"spark.jars.packages\", \"io.delta:delta-core_2.12:1.0.0\") \\\n",
    "    .enableHiveSupport() \\\n",
    "\n",
    "spark = spark = configure_spark_with_delta_pip(builder).getOrCreate()"
   ]
  },
  {
   "cell_type": "code",
   "execution_count": 4,
   "id": "f332b134-d3ae-4e90-a81e-a120a0d4dee8",
   "metadata": {},
   "outputs": [
    {
     "data": {
      "text/plain": [
       "DataFrame[]"
      ]
     },
     "execution_count": 4,
     "metadata": {},
     "output_type": "execute_result"
    }
   ],
   "source": [
    "# create gold database\n",
    "spark.sql( \n",
    "    \"\"\"\n",
    "    DROP DATABASE IF EXISTS ProjetoGold CASCADE\n",
    "    \"\"\"\n",
    ")\n",
    "spark.sql(\n",
    "    \"\"\"\n",
    "    create database ProjetoGold location 'hdfs://hdfs-nn:9000/Projeto/Gold/ProjetoGold.db'\n",
    "    \"\"\"\n",
    ")"
   ]
  },
  {
   "cell_type": "code",
   "execution_count": 5,
   "id": "dbac201d-7c1b-4cad-81ef-93d0fe4357b2",
   "metadata": {},
   "outputs": [
    {
     "data": {
      "text/plain": [
       "DataFrame[]"
      ]
     },
     "execution_count": 5,
     "metadata": {},
     "output_type": "execute_result"
    }
   ],
   "source": [
    "spark.sql(\n",
    "    \"\"\"\n",
    "    DROP TABLE IF EXISTS ProjetoGold.gold_ResgatesAnimais\n",
    "    \"\"\"\n",
    ")\n",
    "\n",
    "spark.sql(\n",
    "    \"\"\"\n",
    "    CREATE EXTERNAL TABLE ProjetoGold.gold_ResgatesAnimais (\n",
    "        Date_and_Time_of_initial_call string,\n",
    "\t\tDate_and_time_of_Ranger_response string,\n",
    "\t\tProperty string,\n",
    "\t\tLocation string,\n",
    "\t\tCall_Source string,\n",
    "\t\tSpecies_Status string,\n",
    "\t\tAnimal_Condition string,\n",
    "\t\tDuration_of_Response DOUBLE,\n",
    "\t\tAnimal_Class string,\n",
    "\t\t311SR_Number string,\n",
    "\t\tFinal_Ranger_Action string,\n",
    "\t\tNumber_of_Animals INT,\n",
    "\t\tPEP_Response BOOLEAN,\n",
    "\t\tAnimal_Monitored BOOLEAN,\n",
    "\t\tPolice_Response BOOLEAN,\n",
    "\t\tESU_Response BOOLEAN,\n",
    "\t\tData string,\n",
    "        Year INT,\n",
    "        Borough string,\n",
    "        Species_Description string,\n",
    "\t\tAge string\n",
    "    )\n",
    "    USING DELTA\n",
    "    LOCATION 'hdfs://hdfs-nn:9000/Projeto/Gold/ProjetoGold.db/gold_ResgatesAnimais/'\n",
    "    \"\"\"\n",
    ")"
   ]
  },
  {
   "cell_type": "code",
   "execution_count": 6,
   "id": "aad21af4-476b-4801-a5e3-257c0aef4e23",
   "metadata": {},
   "outputs": [
    {
     "name": "stdout",
     "output_type": "stream",
     "text": [
      "+-----------------------------+--------------------------------+-------------+--------------------+--------------------+--------------------+--------------------+--------------+----------------+--------------------+---------------+--------------------+-------------+--------------------+-----------------+------------+----------------+---------------+------------+----------+----+\n",
      "|Date_and_Time_of_initial_call|Date_and_time_of_Ranger_response|      Borough|            Property|            Location| Species_Description|         Call_Source|Species_Status|Animal_Condition|Duration_of_Response|            Age|        Animal_Class| 311SR_Number| Final_Ranger_Action|Number_of_Animals|PEP_Response|Animal_Monitored|Police_Response|ESU_Response|      Data|Year|\n",
      "+-----------------------------+--------------------------------+-------------+--------------------+--------------------+--------------------+--------------------+--------------+----------------+--------------------+---------------+--------------------+-------------+--------------------+-----------------+------------+----------------+---------------+------------+----------+----+\n",
      "|         06/23/2021 04:45:...|            06/24/2021 08:00:...|     Brooklyn|      Sternberg Park|Inside locked ath...|              Chukar|               Other|        Exotic|         Healthy|                 6.0|          Adult|               Birds| 311-06712416|                 ACC|                6|       false|           false|          false|       false|06/23/2021|2021|\n",
      "|         06/24/2021 10:00:...|            06/24/2021 11:00:...|        Bronx|         Haffen Park|         Haffen Pool|             Sparrow|             Central|        Native|         Healthy|                1.75|         Infant|               Birds| 311-06714879|       Rehabilitator|                4|       false|           false|          false|       false|06/24/2021|2021|\n",
      "|         06/23/2021 02:30:...|            06/23/2021 02:30:...|        Bronx|     Pelham Bay Park|    Pelham Bay South|   White-tailed Deer|            Employee|        Native|             N/A|                 1.0|       Juvenile|                Deer|   Indefinido|           Unfounded|                0|       false|           false|          false|       false|06/23/2021|2021|\n",
      "|         06/23/2021 01:00:...|            06/23/2021 01:10:...|Staten Island|    Willowbrook Park|        The carousel|             Raccoon|            Employee|        Native|             N/A|                 2.0|Adult;#Juvenile|   Small Mammals-RVS|   Indefinido|           Unfounded|                0|       false|           false|          false|       false|06/23/2021|2021|\n",
      "|         06/23/2021 09:20:...|            06/23/2021 09:20:...|       Queens|Judge Moses Weins...|         Garbage can|    Virginia Opossum|             Central|        Native|         Healthy|                2.25|       Juvenile|Small Mammals-non...| 311-06699415|                 ACC|                1|       false|           false|          false|       false|06/23/2021|2021|\n",
      "|         06/23/2021 09:00:...|            06/23/2021 09:10:...|Staten Island|    Clove Lakes Park|Martling Pond on ...|       Domestic Duck|            Employee|      Domestic|         Healthy|                1.25|          Adult|     Domestic;#Birds| 311-06700321|                 ACC|                1|       false|           false|          false|       false|06/23/2021|2021|\n",
      "|         06/23/2021 05:30:...|            06/23/2021 08:20:...|Staten Island|    Willowbrook Park|                Pond|        Canada Goose|            Employee|        Native|         Injured|                 0.5|       Juvenile|               Birds|   Indefinido|           Unfounded|                0|       false|           false|          false|       false|06/23/2021|2021|\n",
      "|         06/22/2021 03:00:...|            06/22/2021 03:00:...|       Queens|        Travers Park|   78th Street Plaza|                 Cat|              Public|      Domestic|       Unhealthy|                 1.0|          Adult|            Domestic|   Indefinido|           Unfounded|                0|       false|           false|          false|       false|06/22/2021|2021|\n",
      "|         06/22/2021 03:30:...|            06/22/2021 03:30:...|     Brooklyn|       Prospect Park| V/O Drummers Circle|                 Dog|            Employee|      Domestic|         Injured|                 0.5|       Juvenile|            Domestic|   Indefinido|                 ACC|                1|        true|           false|          false|       false|06/22/2021|2021|\n",
      "|         06/22/2021 11:30:...|            06/22/2021 11:30:...|    Manhattan|     Highbridge Park|Coogan's Bluff Pl...|                 Dog|             Central|      Domestic|             N/A|                0.75|          Adult|            Domestic|   Indefinido|           Unfounded|                0|       false|           false|          false|       false|06/22/2021|2021|\n",
      "|         06/22/2021 11:55:...|            06/22/2021 11:55:...|       Queens|         Forest Park|Giovanelli Playgr...|   Eastern Rat Snake|             Central|        Native|         Healthy|                 2.0|       Juvenile|Terrestrial Repti...| 311-06691186|Relocated/Conditi...|                1|       false|           false|          false|       false|06/22/2021|2021|\n",
      "|         06/22/2021 12:00:...|            06/22/2021 12:00:...|    Manhattan|    Inwood Hill Park|214th and Seaman Ave|Eastern Gray Squi...|            Employee|        Native|         Injured|                 0.5|          Adult|Small Mammals-non...|   Indefinido|Advised/Educated ...|                1|       false|            true|          false|       false|06/22/2021|2021|\n",
      "|         06/22/2021 11:30:...|            06/22/2021 12:00:...|     Brooklyn|         Marine Park|Salt Marsh Nature...|     Domestic Rabbit|            Employee|      Domestic|         Healthy|                 2.0|          Adult|            Domestic|   Indefinido|           Unfounded|                0|       false|           false|          false|       false|06/22/2021|2021|\n",
      "|         06/21/2021 02:02:...|            06/21/2021 02:02:...|       Queens|Queens Botanical ...|  Education building|   Northern Cardinal|             Central|        Native|         Injured|                2.75|       Juvenile|               Birds| 311-06682248|       Rehabilitator|                1|       false|           false|          false|       false|06/21/2021|2021|\n",
      "|         06/21/2021 02:45:...|            06/21/2021 02:50:...|Staten Island|Franklin D. Roose...|         PEP Trailer|        Mallard Duck|            Employee|        Native|         Healthy|                 1.5|         Infant|               Birds| 311-06684155|                 ACC|                1|        true|           false|          false|       false|06/21/2021|2021|\n",
      "|         06/21/2021 08:50:...|            06/21/2021 03:50:...|        Bronx|  Van Cortlandt Park|Van Cortlandt Lak...|Double-crested Co...|\"Conservancies/\"\"...|        Native|         Healthy|                0.75|          Adult|               Birds|311-06684-300|    Monitored Animal|                1|       false|            true|          false|       false|06/21/2021|2021|\n",
      "|         06/21/2021 09:20:...|            06/21/2021 12:00:...|    Manhattan|        Central Park| West 97 St entrance|             Raccoon|             Central|        Native|         Injured|                 0.5|       Juvenile|   Small Mammals-RVS|311- 06678452|           Unfounded|                0|       false|           false|          false|       false|06/21/2021|2021|\n",
      "|         06/21/2021 08:50:...|            06/21/2021 09:05:...|        Bronx|  Van Cortlandt Park|Adjacent to Golf ...|Double-crested Co...|\"Conservancies/\"\"...|        Native|         Injured|                 0.3|          Adult|               Birds|          N/A|           Unfounded|                0|       false|           false|          false|       false|06/21/2021|2021|\n",
      "|         06/16/2021 12:00:...|            06/16/2021 01:00:...|     Brooklyn|       Prospect Park|Prospect Lake nea...|       Domestic Duck|\"Conservancies/\"\"...|      Domestic|       Unhealthy|                 2.0|          Adult|     Domestic;#Birds| 311-06621675|                 ACC|                1|       false|           false|          false|       false|06/16/2021|2021|\n",
      "|         06/20/2021 09:00:...|            06/20/2021 03:00:...|    Manhattan|    Inwood Hill Park|Northwest edge of...|Common Snapping T...|            Employee|        Native|             N/A|                 1.0|          Adult|Terrestrial Repti...|   Indefinido|           Unfounded|                0|       false|           false|          false|       false|06/20/2021|2021|\n",
      "+-----------------------------+--------------------------------+-------------+--------------------+--------------------+--------------------+--------------------+--------------+----------------+--------------------+---------------+--------------------+-------------+--------------------+-----------------+------------+----------------+---------------+------------+----------+----+\n",
      "only showing top 20 rows\n",
      "\n",
      "root\n",
      " |-- Date_and_Time_of_initial_call: string (nullable = true)\n",
      " |-- Date_and_time_of_Ranger_response: string (nullable = true)\n",
      " |-- Borough: string (nullable = true)\n",
      " |-- Property: string (nullable = true)\n",
      " |-- Location: string (nullable = true)\n",
      " |-- Species_Description: string (nullable = true)\n",
      " |-- Call_Source: string (nullable = true)\n",
      " |-- Species_Status: string (nullable = true)\n",
      " |-- Animal_Condition: string (nullable = true)\n",
      " |-- Duration_of_Response: double (nullable = true)\n",
      " |-- Age: string (nullable = true)\n",
      " |-- Animal_Class: string (nullable = true)\n",
      " |-- 311SR_Number: string (nullable = true)\n",
      " |-- Final_Ranger_Action: string (nullable = true)\n",
      " |-- Number_of_Animals: integer (nullable = true)\n",
      " |-- PEP_Response: boolean (nullable = true)\n",
      " |-- Animal_Monitored: boolean (nullable = true)\n",
      " |-- Police_Response: boolean (nullable = true)\n",
      " |-- ESU_Response: boolean (nullable = true)\n",
      " |-- Data: string (nullable = true)\n",
      " |-- Year: integer (nullable = true)\n",
      "\n"
     ]
    }
   ],
   "source": [
    "from pyspark.sql.functions import substring, avg, sum\n",
    "\n",
    "# read Urban_Park_Ranger_Animal_Condition_Response from the silver tables\n",
    "hdfs_path = 'hdfs://hdfs-nn:9000/Projeto/Silver/Projeto.db/Urban_Park_Ranger_Animal_Condition_Response'\n",
    "\n",
    "gold_ResgatesAnimais = spark\\\n",
    "             .read\\\n",
    "             .load(hdfs_path)\n",
    "\n",
    "gold_ResgatesAnimais.show()\n",
    "gold_ResgatesAnimais.printSchema()"
   ]
  },
  {
   "cell_type": "code",
   "execution_count": 7,
   "id": "0b65da0d-869e-43f8-8026-5d1f783e45a5",
   "metadata": {},
   "outputs": [],
   "source": [
    "# write to delta table\n",
    "gold_ResgatesAnimais\\\n",
    "    .select(\"Date_and_Time_of_initial_call\", \"Date_and_time_of_Ranger_response\", \"Borough\", \"Property\", \"Location\", \"Species_Description\", \"Call_Source\", \n",
    "            \"Species_Status\", \"Animal_Condition\", \"Duration_of_Response\", \"Age\", \"Animal_Class\", \"311SR_Number\", \"Final_Ranger_Action\", \n",
    "            \"Number_of_Animals\", \"PEP_Response\", \"Animal_Monitored\", \"Police_Response\", \"ESU_Response\", \"Data\", \"Year\") \\\n",
    "    .write \\\n",
    "    .format(\"delta\") \\\n",
    "    .mode(\"overwrite\") \\\n",
    "    .save(\"hdfs://hdfs-nn:9000/Projeto/Gold/ProjetoGold.db/gold_ResgatesAnimais/\")"
   ]
  },
  {
   "cell_type": "code",
   "execution_count": 8,
   "id": "7edd36a3-a759-4008-80d7-9ff162210ee8",
   "metadata": {},
   "outputs": [
    {
     "name": "stdout",
     "output_type": "stream",
     "text": [
      "++\n",
      "||\n",
      "++\n",
      "++\n",
      "\n"
     ]
    }
   ],
   "source": [
    "spark.sql(\"\"\"\n",
    "GENERATE symlink_format_manifest FOR TABLE delta.`hdfs://hdfs-nn:9000/Projeto/Gold/ProjetoGold.db/gold_ResgatesAnimais/`\n",
    "\"\"\").show()"
   ]
  },
  {
   "cell_type": "code",
   "execution_count": 9,
   "id": "54fbad08-32ae-4614-93b7-63d1ee880b0d",
   "metadata": {},
   "outputs": [
    {
     "name": "stdout",
     "output_type": "stream",
     "text": [
      "++\n",
      "||\n",
      "++\n",
      "++\n",
      "\n",
      "++\n",
      "||\n",
      "++\n",
      "++\n",
      "\n"
     ]
    }
   ],
   "source": [
    "spark.sql(\"\"\"\n",
    "DROP TABLE IF EXISTS ProjetoGold.gold_ResgatesAnimais_presto \n",
    "\"\"\").show()\n",
    "\n",
    "spark.sql(\"\"\"\n",
    "    CREATE EXTERNAL TABLE ProjetoGold.gold_ResgatesAnimais_presto (\n",
    "       Date_and_Time_of_initial_call string,\n",
    "\t\tDate_and_time_of_Ranger_response string,\n",
    "\t\tProperty string,\n",
    "\t\tLocation string,\n",
    "\t\tCall_Source string,\n",
    "\t\tSpecies_Status string,\n",
    "\t\tAnimal_Condition string,\n",
    "\t\tDuration_of_Response DOUBLE,\n",
    "\t\tAnimal_Class string,\n",
    "\t\t311SR_Number string,\n",
    "\t\tFinal_Ranger_Action string,\n",
    "\t\tNumber_of_Animals INT,\n",
    "\t\tPEP_Response BOOLEAN,\n",
    "\t\tAnimal_Monitored BOOLEAN,\n",
    "\t\tPolice_Response BOOLEAN,\n",
    "\t\tESU_Response BOOLEAN,\n",
    "\t\tData string,\n",
    "        Year INT,\n",
    "        Borough string,\n",
    "        Species_Description string,\n",
    "\t\tAge string\n",
    "    )\n",
    "ROW FORMAT SERDE 'org.apache.hadoop.hive.ql.io.parquet.serde.ParquetHiveSerDe'\n",
    "STORED AS INPUTFORMAT 'org.apache.hadoop.hive.ql.io.SymlinkTextInputFormat'\n",
    "OUTPUTFORMAT 'org.apache.hadoop.hive.ql.io.HiveIgnoreKeyTextOutputFormat'\n",
    "LOCATION 'hdfs://hdfs-nn:9000/Projeto/Gold/ProjetoGold.db/gold_ResgatesAnimais/_symlink_format_manifest/'\n",
    "\"\"\").show()"
   ]
  }
 ],
 "metadata": {
  "kernelspec": {
   "display_name": "Python 3 (ipykernel)",
   "language": "python",
   "name": "python3"
  },
  "language_info": {
   "codemirror_mode": {
    "name": "ipython",
    "version": 3
   },
   "file_extension": ".py",
   "mimetype": "text/x-python",
   "name": "python",
   "nbconvert_exporter": "python",
   "pygments_lexer": "ipython3",
   "version": "3.10.6"
  }
 },
 "nbformat": 4,
 "nbformat_minor": 5
}
