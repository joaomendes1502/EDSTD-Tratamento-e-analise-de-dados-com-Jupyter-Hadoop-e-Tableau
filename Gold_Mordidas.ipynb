{
 "cells": [
  {
   "cell_type": "code",
   "execution_count": 1,
   "id": "f55fb0aa-4981-43ba-96d8-a309ee2a8099",
   "metadata": {},
   "outputs": [
    {
     "name": "stdout",
     "output_type": "stream",
     "text": [
      "Requirement already satisfied: hdfs in /opt/conda/lib/python3.10/site-packages (2.7.0)\n",
      "Requirement already satisfied: six>=1.9.0 in /opt/conda/lib/python3.10/site-packages (from hdfs) (1.16.0)\n",
      "Requirement already satisfied: requests>=2.7.0 in /opt/conda/lib/python3.10/site-packages (from hdfs) (2.28.1)\n",
      "Requirement already satisfied: docopt in /opt/conda/lib/python3.10/site-packages (from hdfs) (0.6.2)\n",
      "Requirement already satisfied: charset-normalizer<3,>=2 in /opt/conda/lib/python3.10/site-packages (from requests>=2.7.0->hdfs) (2.1.1)\n",
      "Requirement already satisfied: idna<4,>=2.5 in /opt/conda/lib/python3.10/site-packages (from requests>=2.7.0->hdfs) (3.4)\n",
      "Requirement already satisfied: certifi>=2017.4.17 in /opt/conda/lib/python3.10/site-packages (from requests>=2.7.0->hdfs) (2022.9.24)\n",
      "Requirement already satisfied: urllib3<1.27,>=1.21.1 in /opt/conda/lib/python3.10/site-packages (from requests>=2.7.0->hdfs) (1.26.11)\n"
     ]
    }
   ],
   "source": [
    "import sys\n",
    "!{sys.executable} -m pip install hdfs\n"
   ]
  },
  {
   "cell_type": "code",
   "execution_count": 2,
   "id": "83dc0603-b5b9-4f7a-8cc3-73435e173701",
   "metadata": {},
   "outputs": [
    {
     "name": "stdout",
     "output_type": "stream",
     "text": [
      "Requirement already satisfied: delta-spark in /opt/conda/lib/python3.10/site-packages (2.1.1)\n",
      "Requirement already satisfied: pyspark<3.4.0,>=3.3.0 in /usr/local/spark-3.3.0-bin-hadoop3/python (from delta-spark) (3.3.0)\n",
      "Requirement already satisfied: importlib-metadata>=1.0.0 in /opt/conda/lib/python3.10/site-packages (from delta-spark) (4.11.4)\n",
      "Requirement already satisfied: zipp>=0.5 in /opt/conda/lib/python3.10/site-packages (from importlib-metadata>=1.0.0->delta-spark) (3.8.1)\n",
      "Requirement already satisfied: py4j==0.10.9.5 in /opt/conda/lib/python3.10/site-packages (from pyspark<3.4.0,>=3.3.0->delta-spark) (0.10.9.5)\n",
      "Note: you may need to restart the kernel to use updated packages.\n"
     ]
    }
   ],
   "source": [
    "pip install delta-spark"
   ]
  },
  {
   "cell_type": "code",
   "execution_count": 3,
   "id": "a698edfd-9ac5-49c5-aac0-88a8309c90f0",
   "metadata": {},
   "outputs": [],
   "source": [
    "from pyspark.sql import SparkSession\n",
    "from pyspark.sql import Row\n",
    "from delta import *\n",
    "\n",
    "# warehouse_location points to the default location for managed databases and tables\n",
    "warehouse_location = 'hdfs://hdfs-nn:9000/Projeto/Gold'\n",
    "\n",
    "builder = SparkSession \\\n",
    "    .builder \\\n",
    "    .appName(\"Python Spark SQL Hive integration example\") \\\n",
    "    .config(\"spark.sql.warehouse.dir\", warehouse_location) \\\n",
    "    .config(\"hive.metastore.uris\", \"thrift://hive-metastore:9083\") \\\n",
    "    .config(\"spark.sql.extensions\", \"io.delta.sql.DeltaSparkSessionExtension\") \\\n",
    "    .config(\"spark.sql.catalog.spark_catalog\", \"org.apache.spark.sql.delta.catalog.DeltaCatalog\") \\\n",
    "    .config(\"spark.jars.packages\", \"io.delta:delta-core_2.12:1.0.0\") \\\n",
    "    .enableHiveSupport() \\\n",
    "\n",
    "spark = spark = configure_spark_with_delta_pip(builder).getOrCreate()\n"
   ]
  },
  {
   "cell_type": "code",
   "execution_count": 4,
   "id": "1e6080c4-9a2e-4db5-882c-354f60f7a01a",
   "metadata": {},
   "outputs": [
    {
     "data": {
      "text/plain": [
       "DataFrame[]"
      ]
     },
     "execution_count": 4,
     "metadata": {},
     "output_type": "execute_result"
    }
   ],
   "source": [
    "spark.sql(\n",
    "    \"\"\"\n",
    "    DROP DATABASE IF EXISTS ProjetoGold CASCADE\n",
    "    \"\"\"\n",
    ")\n",
    "spark.sql(\n",
    "    \"\"\"\n",
    "    create database ProjetoGold location 'hdfs://hdfs-nn:9000/Projeto/Gold/ProjetoGold.db'\n",
    "    \"\"\"\n",
    ")"
   ]
  },
  {
   "cell_type": "code",
   "execution_count": 5,
   "id": "da2f1131-e1c3-42fe-bb05-e07ae486e7de",
   "metadata": {},
   "outputs": [
    {
     "data": {
      "text/plain": [
       "DataFrame[]"
      ]
     },
     "execution_count": 5,
     "metadata": {},
     "output_type": "execute_result"
    }
   ],
   "source": [
    "# create mordidas_caes table in gold\n",
    "spark.sql(\n",
    "    \"\"\"\n",
    "    DROP TABLE IF EXISTS ProjetoGold.Gold_Mordidas_Caes\n",
    "    \"\"\"\n",
    ")\n",
    "\n",
    "spark.sql(\n",
    "    \"\"\"\n",
    "    CREATE EXTERNAL TABLE ProjetoGold.Gold_Mordidas_Caes (\n",
    "        Breed string,\n",
    "        Gender string,\n",
    "        SpayNeuter boolean,\n",
    "        Borough string,\n",
    "        Year INT,\n",
    "        ZipCode INT\n",
    "            \n",
    "    )\n",
    "    USING DELTA\n",
    "    LOCATION 'hdfs://hdfs-nn:9000/Projeto/Gold/ProjetoGold.db/Gold_Mordidas_Caes/'\n",
    "    \"\"\"\n",
    ")"
   ]
  },
  {
   "cell_type": "code",
   "execution_count": 6,
   "id": "6e3cc0af-6fb1-41ad-bc78-542e2444cd8e",
   "metadata": {},
   "outputs": [
    {
     "name": "stdout",
     "output_type": "stream",
     "text": [
      "+---------+---------------+---------+------+----------+-------+----+-------+\n",
      "|Unique_ID|     DateOfBite|    Breed|Gender|SpayNeuter|ZipCode|Year|Borough|\n",
      "+---------+---------------+---------+------+----------+-------+----+-------+\n",
      "|     9032|January 01 2019|  Pitbull|     U|     false|     -1|2019| Queens|\n",
      "|     9033|January 03 2019|Shiba Inu|     M|      true|  11691|2019| Queens|\n",
      "|     9034|January 03 2019|  Unknown|     M|     false|  11355|2019| Queens|\n",
      "|     9035|January 03 2019|  Maltese|     F|      true|  11414|2019| Queens|\n",
      "|     9036|January 05 2019|  Unknown|     U|     false|  11375|2019| Queens|\n",
      "|     9037|January 04 2019|  Pitbull|     M|     false|  11105|2019| Queens|\n",
      "|     9039|January 03 2019|  Unknown|     U|     false|     -1|2019| Queens|\n",
      "|     9040|January 06 2019|Chow Chow|     U|     false|  11365|2019| Queens|\n",
      "|     9042|January 10 2019|  Unknown|     U|     false|     -1|2019| Queens|\n",
      "|     9043|January 11 2019|  Bulldog|     M|      true|  11101|2019| Queens|\n",
      "|     9044|January 12 2019|Shiba Inu|     M|      true|  11105|2019| Queens|\n",
      "|     9045|January 14 2019|  Pitbull|     M|      true|  11436|2019| Queens|\n",
      "|     9046|January 12 2019|    Other|     M|     false|  11385|2019| Queens|\n",
      "|     9047|January 12 2019|    Other|     M|     false|  11428|2019| Queens|\n",
      "|     9048|January 11 2019|  Pitbull|     U|     false|  11102|2019| Queens|\n",
      "|     9049|January 14 2019| Shepherd|     F|      true|  11418|2019| Queens|\n",
      "|     9050|January 14 2019|  Terrier|     U|     false|  11365|2019| Queens|\n",
      "|     9051|January 14 2019|  Pitbull|     M|     false|  11435|2019| Queens|\n",
      "|     9052|January 16 2019|Chihuahua|     U|     false|     -1|2019| Queens|\n",
      "|     9053|January 04 2019|  Unknown|     U|     false|  11692|2019| Queens|\n",
      "+---------+---------------+---------+------+----------+-------+----+-------+\n",
      "only showing top 20 rows\n",
      "\n",
      "root\n",
      " |-- Unique_ID: string (nullable = true)\n",
      " |-- DateOfBite: string (nullable = true)\n",
      " |-- Breed: string (nullable = true)\n",
      " |-- Gender: string (nullable = true)\n",
      " |-- SpayNeuter: boolean (nullable = true)\n",
      " |-- ZipCode: integer (nullable = true)\n",
      " |-- Year: integer (nullable = true)\n",
      " |-- Borough: string (nullable = true)\n",
      "\n"
     ]
    }
   ],
   "source": [
    "from pyspark.sql.functions import substring, avg, sum\n",
    "\n",
    "# read mordidas_caes from the silver tables\n",
    "hdfs_path = \"hdfs://hdfs-nn:9000/Projeto/Silver/Projeto.db/Mordidas_Caes\"\n",
    "\n",
    "Gold_Mordidas_Caes = spark\\\n",
    "             .read\\\n",
    "             .load(hdfs_path)\n",
    "\n",
    "Gold_Mordidas_Caes.show()\n",
    "Gold_Mordidas_Caes.printSchema()"
   ]
  },
  {
   "cell_type": "code",
   "execution_count": 7,
   "id": "d2f1458d-1718-419b-9493-dfc591957780",
   "metadata": {},
   "outputs": [],
   "source": [
    "# write to delta table\n",
    "Gold_Mordidas_Caes \\\n",
    "    .select (\"Breed\", \"Gender\", \"SpayNeuter\", \"Borough\", \"Year\", \"ZipCode\") \\\n",
    "    .write  \\\n",
    "    .format(\"delta\") \\\n",
    "    .mode(\"overwrite\") \\\n",
    "    .save(\"hdfs://hdfs-nn:9000/Projeto/Gold/ProjetoGold.db/Gold_Mordidas_Caes/\")"
   ]
  },
  {
   "cell_type": "code",
   "execution_count": 8,
   "id": "88bd67ff-bd2d-4276-96ea-f2caf097f335",
   "metadata": {},
   "outputs": [
    {
     "name": "stdout",
     "output_type": "stream",
     "text": [
      "++\n",
      "||\n",
      "++\n",
      "++\n",
      "\n"
     ]
    }
   ],
   "source": [
    "spark.sql(\"\"\"\n",
    "GENERATE symlink_format_manifest FOR TABLE delta.`hdfs://hdfs-nn:9000/Projeto/Gold/ProjetoGold.db/Gold_Mordidas_Caes/`\n",
    "\"\"\").show()"
   ]
  },
  {
   "cell_type": "code",
   "execution_count": 9,
   "id": "bd141c96-d32b-4df8-a552-755bca795436",
   "metadata": {},
   "outputs": [
    {
     "name": "stdout",
     "output_type": "stream",
     "text": [
      "++\n",
      "||\n",
      "++\n",
      "++\n",
      "\n",
      "++\n",
      "||\n",
      "++\n",
      "++\n",
      "\n"
     ]
    }
   ],
   "source": [
    "spark.sql(\"\"\"\n",
    "DROP TABLE IF EXISTS ProjetoGold.Gold_Mordidas_Caes_Presto \n",
    "\"\"\").show()\n",
    "\n",
    "spark.sql(\"\"\"\n",
    "    CREATE EXTERNAL TABLE ProjetoGold.Gold_Mordidas_Caes_Presto (\n",
    "        Breed string,\n",
    "        Gender string,\n",
    "        SpayNeuter boolean,\n",
    "        Borough string,\n",
    "        Year INT,\n",
    "        ZipCode INT\n",
    "        \n",
    ")\n",
    "ROW FORMAT SERDE 'org.apache.hadoop.hive.ql.io.parquet.serde.ParquetHiveSerDe'\n",
    "STORED AS INPUTFORMAT 'org.apache.hadoop.hive.ql.io.SymlinkTextInputFormat'\n",
    "OUTPUTFORMAT 'org.apache.hadoop.hive.ql.io.HiveIgnoreKeyTextOutputFormat'\n",
    "LOCATION 'hdfs://hdfs-nn:9000/Projeto/Gold/ProjetoGold.db/Gold_Mordidas_Caes/_symlink_format_manifest/'\n",
    "\"\"\").show()\n"
   ]
  },
  {
   "cell_type": "code",
   "execution_count": null,
   "id": "de1cce34-85a9-4ac8-bdbc-b24429ed9eb1",
   "metadata": {},
   "outputs": [],
   "source": []
  }
 ],
 "metadata": {
  "kernelspec": {
   "display_name": "Python 3 (ipykernel)",
   "language": "python",
   "name": "python3"
  },
  "language_info": {
   "codemirror_mode": {
    "name": "ipython",
    "version": 3
   },
   "file_extension": ".py",
   "mimetype": "text/x-python",
   "name": "python",
   "nbconvert_exporter": "python",
   "pygments_lexer": "ipython3",
   "version": "3.10.6"
  }
 },
 "nbformat": 4,
 "nbformat_minor": 5
}
