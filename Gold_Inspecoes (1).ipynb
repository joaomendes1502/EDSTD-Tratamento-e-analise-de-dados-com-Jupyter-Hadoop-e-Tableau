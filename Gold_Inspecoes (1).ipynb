{
 "cells": [
  {
   "cell_type": "code",
   "execution_count": 1,
   "id": "3168e419-763e-4377-8e6f-fd52e34bd254",
   "metadata": {},
   "outputs": [
    {
     "name": "stdout",
     "output_type": "stream",
     "text": [
      "/opt/conda/bin/python: No module named pip install hdfs\n"
     ]
    }
   ],
   "source": [
    "# Install dependencies\n",
    "\n",
    "import sys\n",
    "!{sys.executable} -m pip install hdfs"
   ]
  },
  {
   "cell_type": "code",
   "execution_count": 2,
   "id": "a78770a6-81b7-48b7-a1be-5fade9f7ec1d",
   "metadata": {},
   "outputs": [
    {
     "name": "stdout",
     "output_type": "stream",
     "text": [
      "Requirement already satisfied: delta-spark in /opt/conda/lib/python3.10/site-packages (2.1.1)\n",
      "Requirement already satisfied: importlib-metadata>=1.0.0 in /opt/conda/lib/python3.10/site-packages (from delta-spark) (4.11.4)\n",
      "Requirement already satisfied: pyspark<3.4.0,>=3.3.0 in /usr/local/spark-3.3.0-bin-hadoop3/python (from delta-spark) (3.3.0)\n",
      "Requirement already satisfied: zipp>=0.5 in /opt/conda/lib/python3.10/site-packages (from importlib-metadata>=1.0.0->delta-spark) (3.8.1)\n",
      "Requirement already satisfied: py4j==0.10.9.5 in /opt/conda/lib/python3.10/site-packages (from pyspark<3.4.0,>=3.3.0->delta-spark) (0.10.9.5)\n",
      "Note: you may need to restart the kernel to use updated packages.\n"
     ]
    }
   ],
   "source": [
    "pip install delta-spark"
   ]
  },
  {
   "cell_type": "code",
   "execution_count": 3,
   "id": "4ff44120-976e-43a1-aed6-c18000d16a72",
   "metadata": {},
   "outputs": [],
   "source": [
    "from pyspark.sql import SparkSession\n",
    "from pyspark.sql import Row\n",
    "from delta import *\n",
    "\n",
    "# warehouse_location points to the default location for managed databases and tables\n",
    "warehouse_location = 'hdfs://hdfs-nn:9000/Projeto/Gold'\n",
    "\n",
    "builder = SparkSession \\\n",
    "    .builder \\\n",
    "    .appName(\"Python Spark SQL Hive integration example\") \\\n",
    "    .config(\"spark.sql.warehouse.dir\", warehouse_location) \\\n",
    "    .config(\"hive.metastore.uris\", \"thrift://hive-metastore:9083\") \\\n",
    "    .config(\"spark.sql.extensions\", \"io.delta.sql.DeltaSparkSessionExtension\") \\\n",
    "    .config(\"spark.sql.catalog.spark_catalog\", \"org.apache.spark.sql.delta.catalog.DeltaCatalog\") \\\n",
    "    .config(\"spark.jars.packages\", \"io.delta:delta-core_2.12:1.0.0\") \\\n",
    "    .enableHiveSupport() \\\n",
    "\n",
    "spark = spark = configure_spark_with_delta_pip(builder).getOrCreate()"
   ]
  },
  {
   "cell_type": "code",
   "execution_count": 4,
   "id": "26e4490a-bae3-4a2c-ab45-7d3f2b307293",
   "metadata": {},
   "outputs": [
    {
     "data": {
      "text/plain": [
       "DataFrame[]"
      ]
     },
     "execution_count": 4,
     "metadata": {},
     "output_type": "execute_result"
    }
   ],
   "source": [
    "spark.sql(\n",
    "    \"\"\"\n",
    "    DROP TABLE IF EXISTS ProjetoGold.Gold_Inspecoes\n",
    "    \"\"\"\n",
    ")\n",
    "\n",
    "spark.sql(\n",
    "    \n",
    "    \n",
    "    \"\"\"\n",
    "    CREATE EXTERNAL TABLE ProjetoGold.Gold_Inspecoes (\n",
    "    \n",
    "        Site_Name string,\n",
    "        Boro string,\n",
    "        District string,\n",
    "        Overall_Rating string,\n",
    "        Cleanliness_Rating string,\n",
    "        Year int,\n",
    "        Data string,\n",
    "        PIP_Category string\n",
    "        )\n",
    "    \n",
    "    USING DELTA\n",
    "    LOCATION 'hdfs://hdfs-nn:9000/Projeto/Gold/ProjetoGold.db/Gold_Inspecoes'\n",
    "    \"\"\"\n",
    "    \n",
    ")"
   ]
  },
  {
   "cell_type": "code",
   "execution_count": 5,
   "id": "f9b27028-2e99-4480-84f5-bb48322834ea",
   "metadata": {},
   "outputs": [],
   "source": [
    "from pyspark.sql.functions import substring, avg, sum\n",
    "\n",
    "# read  Parks_Supervisor_Inspections_Inspection_Results from the silver tables\n",
    "hdfs_path = 'hdfs://hdfs-nn:9000/Projeto/Silver/Projeto.db/Inspecoes'\n",
    "\n",
    "Inspecoes = spark\\\n",
    "             .read\\\n",
    "             .load(hdfs_path)\n",
    "\n"
   ]
  },
  {
   "cell_type": "code",
   "execution_count": null,
   "id": "357aa134-427f-401f-a9fe-8fceff0c6886",
   "metadata": {},
   "outputs": [],
   "source": [
    "# write to delta table\n",
    "Inspecoes \\\n",
    "    .select(\"Site_Name\", \"Boro\", \"District\", \"Overall_Rating\", \"Cleanliness_Rating\", \"Year\", \"Data\", \"PIP_Category\") \\\n",
    "    .write \\\n",
    "    .format(\"delta\") \\\n",
    "    .mode(\"overwrite\") \\\n",
    "    .save(\"hdfs://hdfs-nn:9000/Projeto/Gold/ProjetoGold.db/Gold_Inspecoes/\")"
   ]
  },
  {
   "cell_type": "code",
   "execution_count": null,
   "id": "edd04a11-7c94-4130-83ee-5a8d017c6f93",
   "metadata": {},
   "outputs": [],
   "source": [
    "spark.sql(\"\"\"\n",
    "GENERATE symlink_format_manifest FOR TABLE delta.`hdfs://hdfs-nn:9000/Projeto/Gold/ProjetoGold.db/Gold_Inspecoes/`\n",
    "\"\"\").show()"
   ]
  },
  {
   "cell_type": "code",
   "execution_count": null,
   "id": "6f7b871e-0554-4806-bc1a-b9eb2646dd0a",
   "metadata": {},
   "outputs": [],
   "source": [
    "spark.sql(\"\"\"\n",
    "DROP TABLE IF EXISTS ProjetoGold.Gold_Inspecoes_Presto\n",
    "\"\"\").show()\n",
    "\n",
    "spark.sql(\"\"\"\n",
    "CREATE EXTERNAL TABLE IF NOT EXISTS ProjetoGold.Gold_Inspecoes_Presto (\n",
    "  \n",
    "    Site_Name string,\n",
    "    Boro string,\n",
    "    District string,\n",
    "    Overall_Rating string,\n",
    "    Cleanliness_Rating string,\n",
    "    Year int,\n",
    "    Data string,\n",
    "    PIP_Category string\n",
    "   \n",
    ")\n",
    "ROW FORMAT SERDE 'org.apache.hadoop.hive.ql.io.parquet.serde.ParquetHiveSerDe'\n",
    "STORED AS INPUTFORMAT 'org.apache.hadoop.hive.ql.io.SymlinkTextInputFormat'\n",
    "OUTPUTFORMAT 'org.apache.hadoop.hive.ql.io.HiveIgnoreKeyTextOutputFormat'\n",
    "LOCATION 'hdfs://hdfs-nn:9000/Projeto/Gold/ProjetoGold.db/Gold_Inspecoes/_symlink_format_manifest/'\n",
    "\"\"\").show()"
   ]
  },
  {
   "cell_type": "code",
   "execution_count": null,
   "id": "b76a69f9-bd0e-4657-b0f5-04baf7a764ad",
   "metadata": {},
   "outputs": [],
   "source": []
  }
 ],
 "metadata": {
  "kernelspec": {
   "display_name": "Python 3 (ipykernel)",
   "language": "python",
   "name": "python3"
  },
  "language_info": {
   "codemirror_mode": {
    "name": "ipython",
    "version": 3
   },
   "file_extension": ".py",
   "mimetype": "text/x-python",
   "name": "python",
   "nbconvert_exporter": "python",
   "pygments_lexer": "ipython3",
   "version": "3.10.6"
  }
 },
 "nbformat": 4,
 "nbformat_minor": 5
}
