{
 "cells": [
  {
   "cell_type": "code",
   "execution_count": 16,
   "id": "0fbefca0-d4cd-4c3b-82ee-44f309c1a630",
   "metadata": {},
   "outputs": [
    {
     "name": "stdout",
     "output_type": "stream",
     "text": [
      "Requirement already satisfied: hdfs in /opt/conda/lib/python3.10/site-packages (2.7.0)\n",
      "Requirement already satisfied: six>=1.9.0 in /opt/conda/lib/python3.10/site-packages (from hdfs) (1.16.0)\n",
      "Requirement already satisfied: docopt in /opt/conda/lib/python3.10/site-packages (from hdfs) (0.6.2)\n",
      "Requirement already satisfied: requests>=2.7.0 in /opt/conda/lib/python3.10/site-packages (from hdfs) (2.28.1)\n",
      "Requirement already satisfied: charset-normalizer<3,>=2 in /opt/conda/lib/python3.10/site-packages (from requests>=2.7.0->hdfs) (2.1.1)\n",
      "Requirement already satisfied: urllib3<1.27,>=1.21.1 in /opt/conda/lib/python3.10/site-packages (from requests>=2.7.0->hdfs) (1.26.11)\n",
      "Requirement already satisfied: certifi>=2017.4.17 in /opt/conda/lib/python3.10/site-packages (from requests>=2.7.0->hdfs) (2022.9.24)\n",
      "Requirement already satisfied: idna<4,>=2.5 in /opt/conda/lib/python3.10/site-packages (from requests>=2.7.0->hdfs) (3.4)\n"
     ]
    }
   ],
   "source": [
    "import sys\n",
    "!{sys.executable} -m pip install hdfs"
   ]
  },
  {
   "cell_type": "code",
   "execution_count": 17,
   "id": "c6b7b8fb-7cea-40fb-a25c-9f44f0c6e5f6",
   "metadata": {},
   "outputs": [
    {
     "name": "stdout",
     "output_type": "stream",
     "text": [
      "Requirement already satisfied: delta-spark in /opt/conda/lib/python3.10/site-packages (2.1.0)\n",
      "Requirement already satisfied: importlib-metadata>=1.0.0 in /opt/conda/lib/python3.10/site-packages (from delta-spark) (4.11.4)\n",
      "Requirement already satisfied: pyspark<3.4.0,>=3.3.0 in /usr/local/spark-3.3.0-bin-hadoop3/python (from delta-spark) (3.3.0)\n",
      "Requirement already satisfied: zipp>=0.5 in /opt/conda/lib/python3.10/site-packages (from importlib-metadata>=1.0.0->delta-spark) (3.8.1)\n",
      "Requirement already satisfied: py4j==0.10.9.5 in /opt/conda/lib/python3.10/site-packages (from pyspark<3.4.0,>=3.3.0->delta-spark) (0.10.9.5)\n",
      "Note: you may need to restart the kernel to use updated packages.\n"
     ]
    }
   ],
   "source": [
    "pip install delta-spark"
   ]
  },
  {
   "cell_type": "code",
   "execution_count": 18,
   "id": "1dbd4db9-a1b1-4b8f-a42d-3a305a19b724",
   "metadata": {},
   "outputs": [],
   "source": [
    "from pyspark.sql import SparkSession\n",
    "from pyspark.sql import Row\n",
    "from delta import *\n",
    "from pyspark.sql.types import *\n",
    "from pyspark.sql.functions import *\n",
    "\n",
    "# warehouse_location points to the default location for managed databases and tables\n",
    "warehouse_location = 'hdfs://hdfs-nn:9000/Projeto/Gold'\n",
    "\n",
    "builder = SparkSession \\\n",
    "    .builder \\\n",
    "    .appName(\"Python Spark SQL Hive integration example\") \\\n",
    "    .config(\"spark.sql.warehouse.dir\", warehouse_location) \\\n",
    "    .config(\"hive.metastore.uris\", \"thrift://hive-metastore:9083\") \\\n",
    "    .config(\"spark.sql.extensions\", \"io.delta.sql.DeltaSparkSessionExtension\") \\\n",
    "    .config(\"spark.sql.catalog.spark_catalog\", \"org.apache.spark.sql.delta.catalog.DeltaCatalog\") \\\n",
    "    .config(\"spark.jars.packages\", \"io.delta:delta-core_2.12:1.0.0\") \\\n",
    "    .enableHiveSupport() \\\n",
    "\n",
    "spark = spark = configure_spark_with_delta_pip(builder).getOrCreate()"
   ]
  },
  {
   "cell_type": "code",
   "execution_count": 19,
   "id": "f2755b6f-1cfb-4560-b6dc-5167204543e2",
   "metadata": {},
   "outputs": [
    {
     "data": {
      "text/plain": [
       "DataFrame[]"
      ]
     },
     "execution_count": 19,
     "metadata": {},
     "output_type": "execute_result"
    }
   ],
   "source": [
    "spark.sql(\n",
    "    \"\"\"\n",
    "    DROP TABLE IF EXISTS ProjetoGold.Gold_Esquilos\n",
    "    \"\"\"\n",
    ")"
   ]
  },
  {
   "cell_type": "code",
   "execution_count": 21,
   "id": "46824103-0467-48d5-b9cd-3b1bcd78c88b",
   "metadata": {},
   "outputs": [
    {
     "data": {
      "text/plain": [
       "DataFrame[]"
      ]
     },
     "execution_count": 21,
     "metadata": {},
     "output_type": "execute_result"
    }
   ],
   "source": [
    "spark.sql(\n",
    "    \"\"\"\n",
    "    CREATE EXTERNAL TABLE ProjetoGold.Gold_Esquilos (\n",
    "        X DOUBLE,\n",
    "        Y DOUBLE,\n",
    "        Hectare string,\n",
    "        Date INT,\n",
    "        Shift string,\n",
    "        Hectare_Squirrel_Number INT,\n",
    "        Age string,\n",
    "        Primary_Fur_Color string,\n",
    "        Highlight_Fur_Color string,\n",
    "        Climbing BOOLEAN,\n",
    "        Eating BOOLEAN,\n",
    "        Foraging BOOLEAN,\n",
    "        Tail_Flags BOOLEAN,\n",
    "        Approaches BOOLEAN,\n",
    "        Indifferent BOOLEAN,\n",
    "        Runs_From BOOLEAN       \n",
    "    )\n",
    "    USING DELTA\n",
    "    LOCATION 'hdfs://hdfs-nn:9000/Projeto/Gold/ProjetoGold.db/Gold_Esquilos'\n",
    "    \"\"\"\n",
    ")"
   ]
  },
  {
   "cell_type": "code",
   "execution_count": 22,
   "id": "761c5fe4-3cf4-4f69-ae53-475ec043e646",
   "metadata": {},
   "outputs": [],
   "source": [
    "from pyspark.sql.functions import substring, avg, sum\n",
    "\n",
    "\n",
    "hdfs_path = \"hdfs://hdfs-nn:9000/Projeto/Silver/Projeto.db/Central_Park_Squirrel_Census_Squirrel_Data_2018\"\n",
    "\n",
    "Gold_Esquilos = spark\\\n",
    "             .read\\\n",
    "             .load(hdfs_path)\n",
    "\n"
   ]
  },
  {
   "cell_type": "code",
   "execution_count": 23,
   "id": "f83ab1a6-7778-44e2-abf7-2cd1de153798",
   "metadata": {},
   "outputs": [],
   "source": [
    "Gold_Esquilos \\\n",
    "    .select (\"X\", \"Y\", \"Hectare\", \"Date\",\"Shift\", \"Hectare_Squirrel_Number\", \"Age\", \"Primary_Fur_Color\", \"Highlight_Fur_Color\", \"Climbing\", \"Eating\", \"Foraging\", \"Tail_Flags\", \"Approaches\", \"Indifferent\", \"Runs_From\") \\\n",
    "    .write  \\\n",
    "    .format(\"delta\") \\\n",
    "    .mode(\"overwrite\") \\\n",
    "    .save(\"hdfs://hdfs-nn:9000/Projeto/Gold/ProjetoGold.db/Gold_Esquilos/\")"
   ]
  },
  {
   "cell_type": "code",
   "execution_count": 24,
   "id": "89b1ca5a-ab2e-4470-8c99-2681d94949a1",
   "metadata": {},
   "outputs": [
    {
     "name": "stdout",
     "output_type": "stream",
     "text": [
      "++\n",
      "||\n",
      "++\n",
      "++\n",
      "\n"
     ]
    }
   ],
   "source": [
    "spark.sql(\"\"\"\n",
    "GENERATE symlink_format_manifest FOR TABLE delta.`hdfs://hdfs-nn:9000/Projeto/Gold/ProjetoGold.db/Gold_Esquilos/`\n",
    "\"\"\").show()"
   ]
  },
  {
   "cell_type": "code",
   "execution_count": 25,
   "id": "e50b9c4e-d0f4-46b2-9d04-b4a4e039754a",
   "metadata": {},
   "outputs": [
    {
     "name": "stdout",
     "output_type": "stream",
     "text": [
      "++\n",
      "||\n",
      "++\n",
      "++\n",
      "\n",
      "++\n",
      "||\n",
      "++\n",
      "++\n",
      "\n"
     ]
    }
   ],
   "source": [
    "spark.sql(\"\"\"\n",
    "DROP TABLE IF EXISTS ProjetoGold.Gold_Esquilos_Presto \n",
    "\"\"\").show()\n",
    "\n",
    "spark.sql(\"\"\"\n",
    "    CREATE EXTERNAL TABLE ProjetoGold.Gold_Esquilos_Presto (\n",
    "        X DOUBLE,\n",
    "        Y DOUBLE,\n",
    "        Hectare string,\n",
    "        Date INT,\n",
    "        Shift string,\n",
    "        Hectare_Squirrel_Number INT,\n",
    "        Age string,\n",
    "        Primary_Fur_Color string,\n",
    "        Highlight_Fur_Color string,\n",
    "        Climbing BOOLEAN,\n",
    "        Eating BOOLEAN,\n",
    "        Foraging BOOLEAN,\n",
    "        Tail_Flags BOOLEAN,\n",
    "        Approaches BOOLEAN,\n",
    "        Indifferent BOOLEAN,\n",
    "        Runs_From BOOLEAN \n",
    "        \n",
    ")\n",
    "ROW FORMAT SERDE 'org.apache.hadoop.hive.ql.io.parquet.serde.ParquetHiveSerDe'\n",
    "STORED AS INPUTFORMAT 'org.apache.hadoop.hive.ql.io.SymlinkTextInputFormat'\n",
    "OUTPUTFORMAT 'org.apache.hadoop.hive.ql.io.HiveIgnoreKeyTextOutputFormat'\n",
    "LOCATION 'hdfs://hdfs-nn:9000/Projeto/Gold/ProjetoGold.db/Gold_Esquilos/_symlink_format_manifest/'\n",
    "\"\"\").show()"
   ]
  },
  {
   "cell_type": "code",
   "execution_count": null,
   "id": "447002eb-eaa8-4559-9da3-4393b107ec44",
   "metadata": {},
   "outputs": [],
   "source": []
  }
 ],
 "metadata": {
  "kernelspec": {
   "display_name": "Python 3 (ipykernel)",
   "language": "python",
   "name": "python3"
  },
  "language_info": {
   "codemirror_mode": {
    "name": "ipython",
    "version": 3
   },
   "file_extension": ".py",
   "mimetype": "text/x-python",
   "name": "python",
   "nbconvert_exporter": "python",
   "pygments_lexer": "ipython3",
   "version": "3.10.6"
  }
 },
 "nbformat": 4,
 "nbformat_minor": 5
}
