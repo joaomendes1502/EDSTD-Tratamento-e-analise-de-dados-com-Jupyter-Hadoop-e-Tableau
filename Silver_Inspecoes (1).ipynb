{
 "cells": [
  {
   "cell_type": "code",
   "execution_count": 2,
   "id": "bae670cb-70de-4fd5-b628-17156e44468f",
   "metadata": {},
   "outputs": [],
   "source": [
    "from pyspark.sql.types import StructType"
   ]
  },
  {
   "cell_type": "code",
   "execution_count": 3,
   "id": "667962c8-6216-4365-915b-03a983cc88a6",
   "metadata": {},
   "outputs": [
    {
     "name": "stdout",
     "output_type": "stream",
     "text": [
      "Requirement already satisfied: delta-spark in /opt/conda/lib/python3.10/site-packages (2.1.1)\n",
      "Requirement already satisfied: pyspark<3.4.0,>=3.3.0 in /usr/local/spark-3.3.0-bin-hadoop3/python (from delta-spark) (3.3.0)\n",
      "Requirement already satisfied: importlib-metadata>=1.0.0 in /opt/conda/lib/python3.10/site-packages (from delta-spark) (4.11.4)\n",
      "Requirement already satisfied: zipp>=0.5 in /opt/conda/lib/python3.10/site-packages (from importlib-metadata>=1.0.0->delta-spark) (3.8.1)\n",
      "Requirement already satisfied: py4j==0.10.9.5 in /opt/conda/lib/python3.10/site-packages (from pyspark<3.4.0,>=3.3.0->delta-spark) (0.10.9.5)\n",
      "Note: you may need to restart the kernel to use updated packages.\n"
     ]
    }
   ],
   "source": [
    "pip install delta-spark"
   ]
  },
  {
   "cell_type": "code",
   "execution_count": 6,
   "id": "f24b8c88-a473-47bd-982c-351bd570c299",
   "metadata": {},
   "outputs": [],
   "source": [
    "from os import PathLike\n",
    "from hdfs import InsecureClient\n",
    "from pyspark.sql import SparkSession\n",
    "from pyspark.sql import Row\n",
    "from delta import *\n",
    "from pyspark.sql.types import *\n",
    "from pyspark.sql.functions import *\n",
    "\n",
    "# warehouse_location points to the default location for managed databases and tables\n",
    "warehouse_location = 'hdfs://hdfs-nn:9000/Projeto/Silver'\n",
    "\n",
    "builder = SparkSession \\\n",
    "    .builder \\\n",
    "    .master(\"local[2]\") \\\n",
    "    .appName(\"Python Spark DataFrames and SQL\") \\\n",
    "    .config(\"spark.sql.warehouse.dir\", warehouse_location) \\\n",
    "    .config(\"hive.metastore.uris\", \"thrift://hive-metastore:9083\") \\\n",
    "    .config(\"spark.sql.extensions\", \"io.delta.sql.DeltaSparkSessionExtension\") \\\n",
    "    .config(\"spark.sql.catalog.spark_catalog\", \"org.apache.spark.sql.delta.catalog.DeltaCatalog\") \\\n",
    "    .config(\"spark.jars.packages\", \"io.delta:delta-core_2.12:1.0.0\") \\\n",
    "    .enableHiveSupport() \\\n",
    "\n",
    "spark = configure_spark_with_delta_pip(builder).getOrCreate()"
   ]
  },
  {
   "cell_type": "code",
   "execution_count": 8,
   "id": "071d7e5a-de16-44c7-a307-0c5373064879",
   "metadata": {},
   "outputs": [],
   "source": [
    " hdfs_path = \"hdfs://hdfs-nn:9000/Projeto/Bronze/Parks_Supervisor_Inspections_Inspection_Results.csv\"\n",
    "\n",
    "customSchema = StructType([\n",
    "    StructField(\"Inspection_ID\", IntegerType(), True),\n",
    "    StructField(\"omppropid\", StringType(), True),\n",
    "    StructField(\"Site_Name\", StringType(), True),\n",
    "    StructField(\"Boro\", StringType(), True),\n",
    "    StructField(\"District\", StringType(), True),\n",
    "    StructField(\"Inspection_Date\", StringType(), True),\n",
    "    StructField(\"PIP_Category\", StringType(), True),\n",
    "    StructField(\"Overall_Rating\", StringType(), True), \n",
    "    StructField(\"Cleanliness_Rating\", StringType(), True)\n",
    "])\n",
    "Parks_Supervisor_Inspections_Inspection_Results = spark \\\n",
    "            .read\\\n",
    "            .option(\"delimiter\",\",\")\\\n",
    "            .option(\"header\",\"true\")\\\n",
    "            .schema(customSchema) \\\n",
    "            .csv(hdfs_path)"
   ]
  },
  {
   "cell_type": "code",
   "execution_count": 12,
   "id": "beb9d69d-8b1f-4905-b9e1-01b29e76f7a9",
   "metadata": {},
   "outputs": [
    {
     "data": {
      "text/plain": [
       "DataFrame[]"
      ]
     },
     "execution_count": 12,
     "metadata": {},
     "output_type": "execute_result"
    }
   ],
   "source": [
    " spark.sql(\n",
    "    \"\"\"\n",
    "    DROP DATABASE IF EXISTS ProjetoGold CASCADE\n",
    "    \"\"\"\n",
    ")"
   ]
  },
  {
   "cell_type": "code",
   "execution_count": 13,
   "id": "2ff2757c-feda-40ef-b336-eee1b169349b",
   "metadata": {},
   "outputs": [
    {
     "data": {
      "text/plain": [
       "DataFrame[]"
      ]
     },
     "execution_count": 13,
     "metadata": {},
     "output_type": "execute_result"
    }
   ],
   "source": [
    "spark.sql(\n",
    "    \"\"\"\n",
    "    CREATE DATABASE Projeto LOCATION 'hdfs://hdfs-nn:9000/Projeto/Silver/Projeto.db/'\n",
    "    \"\"\"\n",
    ")"
   ]
  },
  {
   "cell_type": "code",
   "execution_count": 14,
   "id": "b4dcde0f-635c-4390-8e2a-8dc27d0c4ca6",
   "metadata": {},
   "outputs": [],
   "source": [
    "Alteracao_inspecoes = Parks_Supervisor_Inspections_Inspection_Results"
   ]
  },
  {
   "cell_type": "code",
   "execution_count": 15,
   "id": "72b642e0-3d17-4277-a524-2f7d7edbb45d",
   "metadata": {},
   "outputs": [],
   "source": [
    "Alteracao1_inspecoes = Alteracao_inspecoes.withColumn('Data', split(Alteracao_inspecoes['Inspection_Date'],' ').getItem(0))"
   ]
  },
  {
   "cell_type": "code",
   "execution_count": 16,
   "id": "109e5d17-5a4b-4330-8021-a3b5a06617bf",
   "metadata": {},
   "outputs": [],
   "source": [
    "Alteracao2_inspecoes = Alteracao1_inspecoes.withColumn('Year', split(Alteracao1_inspecoes['Data'],'/').getItem(2))"
   ]
  },
  {
   "cell_type": "code",
   "execution_count": 17,
   "id": "8ef20ab0-9658-4350-b293-14f03a0fa9f2",
   "metadata": {},
   "outputs": [],
   "source": [
    "Alteracao_inspecoes = Parks_Supervisor_Inspections_Inspection_Results\n",
    "Alteracao1_inspecoes = Alteracao_inspecoes.withColumn('Data', split(Alteracao_inspecoes['Inspection_Date'],' ').getItem(0))\n",
    "Alteracao2_inspecoes = Alteracao1_inspecoes.withColumn('Year', split(Alteracao1_inspecoes['Data'],'/').getItem(2).cast(\"integer\"))"
   ]
  },
  {
   "cell_type": "code",
   "execution_count": 18,
   "id": "c543160b-151d-4b34-bab2-9f39ea7e70e7",
   "metadata": {},
   "outputs": [
    {
     "name": "stdout",
     "output_type": "stream",
     "text": [
      "+----------+\n",
      "|(Boro = B)|\n",
      "+----------+\n",
      "|     false|\n",
      "|     false|\n",
      "|     false|\n",
      "|     false|\n",
      "|     false|\n",
      "|     false|\n",
      "|     false|\n",
      "|     false|\n",
      "|     false|\n",
      "|     false|\n",
      "|     false|\n",
      "|     false|\n",
      "|     false|\n",
      "|     false|\n",
      "|     false|\n",
      "|     false|\n",
      "|     false|\n",
      "|     false|\n",
      "|     false|\n",
      "|     false|\n",
      "+----------+\n",
      "only showing top 20 rows\n",
      "\n"
     ]
    }
   ],
   "source": [
    "Alteracao3_inspecoes = Alteracao2_inspecoes.withColumn(\n",
    "    \"omppropid\",\n",
    "    when(\n",
    "        (col(\"omppropid\").isNull()), \n",
    "        \"Indefinido\"\n",
    "    ).otherwise(col(\"omppropid\")))\n",
    "    \n",
    "Alteracao4_inspecoes = Alteracao3_inspecoes.withColumn(\n",
    "    \"Site_Name\",\n",
    "    when(\n",
    "        (col(\"Site_Name\").isNull()), \n",
    "        \"Indefinido\"\n",
    "    ).otherwise(col(\"Site_Name\")))\n",
    "    \n",
    "Alteracao5_inspecoes = Alteracao4_inspecoes.withColumn(\n",
    "    \"Boro\",\n",
    "    when(\n",
    "        (col(\"Boro\").isNull()), \n",
    "        \"Indefinido\"\n",
    "    ).otherwise(col(\"Boro\")))\n",
    "    \n",
    "    \n",
    "Alteracao6_inspecoes = Alteracao5_inspecoes.withColumn(\n",
    "    \"Boro\",\n",
    "    when(Alteracao5_inspecoes.Boro.endswith('B'),regexp_replace(Alteracao5_inspecoes.Boro,'B','Brooklyn')) \\\n",
    "   .when(Alteracao5_inspecoes.Boro.endswith('M'),regexp_replace(Alteracao5_inspecoes.Boro,'M','Manhattan')) \\\n",
    "   .when(Alteracao5_inspecoes.Boro.endswith('Q'),regexp_replace(Alteracao5_inspecoes.Boro,'Q','Queens')) \\\n",
    "   .when(Alteracao5_inspecoes.Boro.endswith('R'),regexp_replace(Alteracao5_inspecoes.Boro,'R','Staten Island')) \\\n",
    "   .when(Alteracao5_inspecoes.Boro.endswith('X'),regexp_replace(Alteracao5_inspecoes.Boro,'X','Bronx')) \\\n",
    "    .when(Alteracao5_inspecoes.Boro.endswith('Indefinido'),regexp_replace(Alteracao5_inspecoes.Boro,'Indefinido','Indefinido')) \\\n",
    ")\n",
    "\n",
    "Alteracao6_inspecoes.select(col(\"Boro\") == \"B\").show()\n",
    "    \n",
    "Alteracao7_inspecoes = Alteracao6_inspecoes.withColumn(\n",
    "    \"District\",\n",
    "    when(\n",
    "        (col(\"District\").isNull()), \n",
    "        \"Indefinido\"\n",
    "    ).otherwise(col(\"District\")))\n",
    "\n",
    "Alteracao8_inspecoes = Alteracao7_inspecoes.withColumn(\n",
    "    \"PIP_Category\",\n",
    "    when(\n",
    "        (col(\"PIP_Category\").isNull()), \n",
    "        \"Indefinido\"\n",
    "    ).otherwise(col(\"PIP_Category\")))\n",
    "\n",
    "Alteracao9_inspecoes = Alteracao8_inspecoes.withColumn(\n",
    "    \"Overall_Rating\",\n",
    "    when(\n",
    "        (col(\"Overall_Rating\").isNull()), \n",
    "        \"Nao Avaliado\"\n",
    "    ).otherwise(col(\"Overall_Rating\")))\n",
    "\n",
    "Alteracao10_inspecoes = Alteracao9_inspecoes.withColumn(\n",
    "    \"Cleanliness_Rating\",\n",
    "    when(\n",
    "        (col(\"Cleanliness_Rating\").isNull()), \n",
    "        \"Nao Avaliado\"\n",
    "    ).otherwise(col(\"Cleanliness_Rating\")))\n",
    "\n",
    "Alteracao11_inspecoes = Alteracao10_inspecoes.withColumn(\n",
    "    \"Overall_Rating\",\n",
    "    when(Alteracao10_inspecoes.Overall_Rating.endswith('A'),regexp_replace(Alteracao10_inspecoes.Overall_Rating,'A','Acceptable')) \\\n",
    "   .when(Alteracao10_inspecoes.Overall_Rating.endswith('U'),regexp_replace(Alteracao10_inspecoes.Overall_Rating,'U','Unacceptable')) \\\n",
    "    .when(Alteracao10_inspecoes.Overall_Rating.endswith('U/S'),regexp_replace(Alteracao10_inspecoes.Overall_Rating,'U/S','Very Unacceptable')) \\\n",
    "     .when(Alteracao10_inspecoes.Overall_Rating.endswith('Nao Avaliado'),regexp_replace(Alteracao10_inspecoes.Overall_Rating,'Nao Avaliado','Nao Avaliado')) \\\n",
    ")\n",
    "\n",
    "Alteracao12_inspecoes = Alteracao11_inspecoes.withColumn(\n",
    "    \"Cleanliness_Rating\",\n",
    "    when(Alteracao11_inspecoes.Cleanliness_Rating.endswith('A'),regexp_replace(Alteracao11_inspecoes.Cleanliness_Rating,'A','Acceptable')) \\\n",
    "   .when(Alteracao11_inspecoes.Cleanliness_Rating.endswith('U'),regexp_replace(Alteracao11_inspecoes.Cleanliness_Rating,'U','Unacceptable')) \\\n",
    "    .when(Alteracao11_inspecoes.Cleanliness_Rating.endswith('U/S'),regexp_replace(Alteracao11_inspecoes.Cleanliness_Rating,'U/S','Very Unacceptable')) \\\n",
    "    .when(Alteracao11_inspecoes.Cleanliness_Rating.endswith('Nao Avaliado'),regexp_replace(Alteracao11_inspecoes.Cleanliness_Rating,'Nao Avaliado','Nao Avaliado')) \\\n",
    ")"
   ]
  },
  {
   "cell_type": "code",
   "execution_count": 19,
   "id": "821c84bb-a6af-477d-b147-4f58ba6b1e67",
   "metadata": {},
   "outputs": [
    {
     "data": {
      "text/plain": [
       "DataFrame[]"
      ]
     },
     "execution_count": 19,
     "metadata": {},
     "output_type": "execute_result"
    }
   ],
   "source": [
    "spark.sql(\n",
    "    \"\"\"\n",
    "    DROP TABLE IF EXISTS Projeto.Inspecoes\n",
    "    \"\"\"\n",
    ")\n",
    "\n",
    "\n",
    "spark.sql(\n",
    "    \n",
    "    \n",
    "    \"\"\"\n",
    "    CREATE EXTERNAL TABLE Projeto.Inspecoes (\n",
    "    \n",
    "        Inspection_ID INT,\n",
    "        omppropid string,\n",
    "        Site_Name string,\n",
    "        Boro string,\n",
    "        District string,\n",
    "        Inspection_Date string,\n",
    "        Overall_Rating string,\n",
    "        Cleanliness_Rating string,\n",
    "        Data string\n",
    "        )\n",
    "        \n",
    "        USING DELTA\n",
    "        PARTITIONED BY(\n",
    "        Year int,\n",
    "        PIP_Category string\n",
    "         \n",
    "        \n",
    "\n",
    "    )\n",
    "    \n",
    "    \n",
    "    LOCATION 'hdfs://hdfs-nn:9000/Projeto/Silver/Projeto.db/Inspecoes'\n",
    "    \"\"\"\n",
    "    \n",
    ")"
   ]
  },
  {
   "cell_type": "code",
   "execution_count": 20,
   "id": "97fa470e-ccab-4048-b142-68e5e3e3cab1",
   "metadata": {},
   "outputs": [],
   "source": [
    "#write df to hive deltalake_table\n",
    "\n",
    "Alteracao12_inspecoes \\\n",
    "    .select(\"Inspection_ID\", \"omppropid\", \"Site_Name\", \"Boro\", \"District\", \"Inspection_Date\", \"PIP_Category\", \"Overall_Rating\", \"Cleanliness_Rating\", \"Data\", \"Year\") \\\n",
    "    .write \\\n",
    "    .mode(\"overwrite\") \\\n",
    "    .partitionBy(\"Year\", \"PIP_Category\") \\\n",
    "    .format(\"delta\") \\\n",
    "    .save(\"hdfs://hdfs-nn:9000/Projeto/Silver/Projeto.db/Inspecoes/\")"
   ]
  },
  {
   "cell_type": "code",
   "execution_count": 22,
   "id": "a0efc3d3-e6d7-4790-810e-39b945443af0",
   "metadata": {},
   "outputs": [
    {
     "name": "stdout",
     "output_type": "stream",
     "text": [
      "+-------------+---------+--------------------+---------+--------+--------------------+------------+--------------+------------------+----------+----+\n",
      "|Inspection_ID|omppropid|           Site_Name|     Boro|District|     Inspection_Date|PIP_Category|Overall_Rating|Cleanliness_Rating|      Data|Year|\n",
      "+-------------+---------+--------------------+---------+--------+--------------------+------------+--------------+------------------+----------+----+\n",
      "|        38296|     M015|       Columbus Park|Manhattan|    M-01|08/23/2015 12:00:...|  Playground|  Unacceptable|      Unacceptable|08/23/2015|2015|\n",
      "|        38327|     M086|   Stuyvesant Square|Manhattan|    M-06|08/20/2015 12:00:...|  Small Park|  Unacceptable|        Acceptable|08/20/2015|2015|\n",
      "|        38486|  M140-01| Ten Mile River Plgd|Manhattan|    M-14|08/24/2015 12:00:...|  Playground|  Unacceptable|        Acceptable|08/24/2015|2015|\n",
      "|        38515|     M158|Robert Moses Play...|Manhattan|    M-06|08/24/2015 12:00:...|  Playground|  Unacceptable|        Acceptable|08/24/2015|2015|\n",
      "|        38530|     M242|   Collect Pond Park|Manhattan|    M-01|08/25/2015 12:00:...|  Small Park|  Unacceptable|      Unacceptable|08/25/2015|2015|\n",
      "|        38533|M144-ZN04|East River Park Z...|Manhattan|    M-03|08/25/2015 12:00:...|  Large Park|  Unacceptable|      Unacceptable|08/25/2015|2015|\n",
      "|        38559|     M086|   Stuyvesant Square|Manhattan|    M-06|08/25/2015 12:00:...|  Small Park|  Unacceptable|        Acceptable|08/25/2015|2015|\n",
      "|        38561|  M071-31|           Claremont|Manhattan|    M-14|08/26/2015 12:00:...|  Playground|  Unacceptable|        Acceptable|08/26/2015|2015|\n",
      "|        38567|M071-ZN17|Wildlife Sanct. &...|Manhattan|    M-14|08/26/2015 12:00:...|  Large Park|  Unacceptable|      Unacceptable|08/26/2015|2015|\n",
      "|        38593|     M263| Bellevue South Park|Manhattan|    M-06|08/26/2015 12:00:...|  Playground|  Unacceptable|        Acceptable|08/26/2015|2015|\n",
      "|        38596|     M320|Old Croton Aquedu...|Manhattan|    M-09|08/27/2015 12:00:...|       Other|  Unacceptable|      Unacceptable|08/27/2015|2015|\n",
      "|        38599|M095-ZN03|Broadway Malls Zo...|Manhattan|    M-07|08/26/2015 12:00:...|  Large Park|  Unacceptable|        Acceptable|08/26/2015|2015|\n",
      "|        38606|     M165|   Baruch Playground|Manhattan|    M-03|08/26/2015 12:00:...|  Playground|  Unacceptable|      Unacceptable|08/26/2015|2015|\n",
      "|        38627|     M228|Henry M. Jackson ...|Manhattan|    M-03|08/27/2015 12:00:...|  Playground|  Unacceptable|        Acceptable|08/27/2015|2015|\n",
      "|        38628|     M241|Nathan Straus Pla...|Manhattan|    M-03|08/27/2015 12:00:...|  Playground|  Unacceptable|      Unacceptable|08/27/2015|2015|\n",
      "|        38642|     M198|Martin Luther Kin...|Manhattan|    M-10|08/28/2015 12:00:...|  Playground|  Unacceptable|      Unacceptable|08/28/2015|2015|\n",
      "|        38645|     M195|Sidney Hillman Pl...|Manhattan|    M-03|08/28/2015 12:00:...|  Playground|  Unacceptable|        Acceptable|08/28/2015|2015|\n",
      "|        38648|M072-ZN27|Riverside Dr. Ped...|Manhattan|    M-14|08/28/2015 12:00:...|  Large Park|  Unacceptable|        Acceptable|08/28/2015|2015|\n",
      "|        38650|     M065|  Luther Gulick Park|Manhattan|    M-03|08/28/2015 12:00:...|  Playground|  Unacceptable|      Unacceptable|08/28/2015|2015|\n",
      "|        38653|     M238|Bloomingdale Play...|Manhattan|    M-07|08/28/2015 12:00:...|  Playground|  Unacceptable|        Acceptable|08/28/2015|2015|\n",
      "+-------------+---------+--------------------+---------+--------+--------------------+------------+--------------+------------------+----------+----+\n",
      "only showing top 20 rows\n",
      "\n"
     ]
    }
   ],
   "source": [
    "Alteracao12_inspecoes.filter(Alteracao12_inspecoes.Overall_Rating == 'Unacceptable').show()"
   ]
  },
  {
   "cell_type": "code",
   "execution_count": null,
   "id": "06fc5fbf-64d7-4f02-9369-195e5befa934",
   "metadata": {},
   "outputs": [],
   "source": []
  },
  {
   "cell_type": "code",
   "execution_count": null,
   "id": "70a42d77-ff0e-41fe-9de1-bac315516565",
   "metadata": {},
   "outputs": [],
   "source": []
  }
 ],
 "metadata": {
  "kernelspec": {
   "display_name": "Python 3 (ipykernel)",
   "language": "python",
   "name": "python3"
  },
  "language_info": {
   "codemirror_mode": {
    "name": "ipython",
    "version": 3
   },
   "file_extension": ".py",
   "mimetype": "text/x-python",
   "name": "python",
   "nbconvert_exporter": "python",
   "pygments_lexer": "ipython3",
   "version": "3.10.6"
  }
 },
 "nbformat": 4,
 "nbformat_minor": 5
}
